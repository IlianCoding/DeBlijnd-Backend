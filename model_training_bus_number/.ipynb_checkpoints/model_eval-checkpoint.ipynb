{
 "cells": [
  {
   "cell_type": "code",
   "id": "34890a8e0836428",
   "metadata": {
    "ExecuteTime": {
     "end_time": "2025-02-21T09:06:00.548373Z",
     "start_time": "2025-02-21T09:06:00.542796Z"
    }
   },
   "source": [
    "import onnxruntime as ort\n",
    "import numpy as np\n",
    "from PIL import Image\n",
    "import cv2"
   ],
   "outputs": [],
   "execution_count": 49
  },
  {
   "metadata": {
    "collapsed": true,
    "ExecuteTime": {
     "end_time": "2025-02-21T09:13:52.092904Z",
     "start_time": "2025-02-21T09:13:51.912657Z"
    }
   },
   "cell_type": "code",
   "source": [
    "model_path = \"roboflow_model/roboflow_bus_weights.onnx\"\n",
    "session = ort.InferenceSession(model_path, providers=['CPUExecutionProvider'])\n",
    "\n",
    "model_inputs = session.get_inputs()\n",
    "model_outputs = session.get_outputs()\n",
    "input_names = [inp.name for inp in model_inputs]\n",
    "output_names = [out.name for out in model_outputs]\n",
    "\n",
    "print(\"Model Inputs:\", input_names)\n",
    "print(\"Model Outputs:\", output_names)"
   ],
   "id": "initial_id",
   "outputs": [
    {
     "name": "stdout",
     "output_type": "stream",
     "text": [
      "Model Inputs: ['images']\n",
      "Model Outputs: ['output0']\n"
     ]
    }
   ],
   "execution_count": 61
  },
  {
   "metadata": {
    "ExecuteTime": {
     "end_time": "2025-02-21T09:14:53.313712Z",
     "start_time": "2025-02-21T09:14:53.109310Z"
    }
   },
   "cell_type": "code",
   "source": [
    "image_path=\"test_bus.jpg\"\n",
    "img = Image.open(image_path)\n",
    "img = np.array(img).astype(np.float32)/255\n",
    "\n",
    "img = np.expand_dims(img, axis=0)\n",
    "\n",
    "img = np.transpose(img, (0, 3, 1, 2))\n",
    "\n",
    "\n",
    "outputs = session.run(output_names, {input_names[0]: img})"
   ],
   "id": "e12736b68178bc18",
   "outputs": [],
   "execution_count": 63
  },
  {
   "metadata": {
    "ExecuteTime": {
     "end_time": "2025-02-21T09:15:04.864035Z",
     "start_time": "2025-02-21T09:15:04.855856Z"
    }
   },
   "cell_type": "code",
   "source": [
    "output_data = np.array(outputs[0])\n",
    "output_data = np.squeeze(output_data)\n",
    "output_data = output_data.T\n",
    "\n",
    "boxes = output_data[:, :4]\n",
    "scores = output_data[:, 4]"
   ],
   "id": "2af948a885f02b42",
   "outputs": [
    {
     "name": "stdout",
     "output_type": "stream",
     "text": [
      "Boxes Shape: (8400, 4)\n",
      "Scores Shape: (8400,)\n"
     ]
    }
   ],
   "execution_count": 65
  },
  {
   "metadata": {
    "ExecuteTime": {
     "end_time": "2025-02-21T09:31:12.391292Z",
     "start_time": "2025-02-21T09:31:12.385752Z"
    }
   },
   "cell_type": "code",
   "source": [
    "CONF_THRESHOLD = 0.8\n",
    "valid_indices = np.where(scores > CONF_THRESHOLD)[0]\n",
    "\n",
    "valid_boxes = boxes[valid_indices]\n",
    "valid_scores = scores[valid_indices]\n",
    "\n",
    "print(f\"Valid Detections: {len(valid_boxes)}\")"
   ],
   "id": "4bb33a1d74d56d3e",
   "outputs": [
    {
     "name": "stdout",
     "output_type": "stream",
     "text": [
      "Valid Detections: 10\n"
     ]
    }
   ],
   "execution_count": 77
  },
  {
   "metadata": {
    "ExecuteTime": {
     "end_time": "2025-02-21T09:34:35.289851Z",
     "start_time": "2025-02-21T09:32:38.551869Z"
    }
   },
   "cell_type": "code",
   "source": [
    "image = cv2.imread(\"test_bus.jpg\")\n",
    "image = cv2.resize(image, (640, 640))\n",
    "\n",
    "for i in range(len(valid_boxes)):\n",
    "    x, y, w, h = valid_boxes[i]\n",
    "\n",
    "    x1 = int(x - w / 2)\n",
    "    y1 = int(y - h / 2)\n",
    "    x2 = int(x + w / 2)\n",
    "    y2 = int(y + h / 2)\n",
    "\n",
    "    cv2.rectangle(image, (x1, y1), (x2, y2), (0, 255, 0), 2)\n",
    "\n",
    "    label = f\"Confidence: {valid_scores[i]:.2f}\"\n",
    "    cv2.putText(image, label, (x1, y1 - 10), cv2.FONT_HERSHEY_SIMPLEX, 0.5, (0, 255, 0), 2)\n",
    "\n",
    "image=cv2.resize(image, (640*2, 640*2))\n",
    "\n",
    "cv2.imshow(\"Detections\", image)\n",
    "cv2.waitKey(0)\n",
    "cv2.destroyAllWindows()"
   ],
   "id": "9bd7931024a1b9e1",
   "outputs": [],
   "execution_count": 79
  }
 ],
 "metadata": {
  "kernelspec": {
   "display_name": "Python 3",
   "language": "python",
   "name": "python3"
  },
  "language_info": {
   "codemirror_mode": {
    "name": "ipython",
    "version": 2
   },
   "file_extension": ".py",
   "mimetype": "text/x-python",
   "name": "python",
   "nbconvert_exporter": "python",
   "pygments_lexer": "ipython2",
   "version": "2.7.6"
  }
 },
 "nbformat": 4,
 "nbformat_minor": 5
}
